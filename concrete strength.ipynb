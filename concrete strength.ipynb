{
 "cells": [
  {
   "cell_type": "code",
   "execution_count": 1,
   "metadata": {},
   "outputs": [],
   "source": [
    "import numpy as np\n",
    "import pandas as pd\n",
    "import tensorflow as tf \n",
    "from sklearn.preprocessing import LabelEncoder\n",
    "from sklearn.model_selection import train_test_split"
   ]
  },
  {
   "cell_type": "code",
   "execution_count": 2,
   "metadata": {},
   "outputs": [],
   "source": [
    "data = pd.read_csv(\"compresive_strength_concrete.csv\")"
   ]
  },
  {
   "cell_type": "code",
   "execution_count": 3,
   "metadata": {},
   "outputs": [
    {
     "data": {
      "text/html": [
       "<div>\n",
       "<style scoped>\n",
       "    .dataframe tbody tr th:only-of-type {\n",
       "        vertical-align: middle;\n",
       "    }\n",
       "\n",
       "    .dataframe tbody tr th {\n",
       "        vertical-align: top;\n",
       "    }\n",
       "\n",
       "    .dataframe thead th {\n",
       "        text-align: right;\n",
       "    }\n",
       "</style>\n",
       "<table border=\"1\" class=\"dataframe\">\n",
       "  <thead>\n",
       "    <tr style=\"text-align: right;\">\n",
       "      <th></th>\n",
       "      <th>Cement (component 1)(kg in a m^3 mixture)</th>\n",
       "      <th>Blast Furnace Slag (component 2)(kg in a m^3 mixture)</th>\n",
       "      <th>Fly Ash (component 3)(kg in a m^3 mixture)</th>\n",
       "      <th>Water  (component 4)(kg in a m^3 mixture)</th>\n",
       "      <th>Superplasticizer (component 5)(kg in a m^3 mixture)</th>\n",
       "      <th>Coarse Aggregate  (component 6)(kg in a m^3 mixture)</th>\n",
       "      <th>Fine Aggregate (component 7)(kg in a m^3 mixture)</th>\n",
       "      <th>Age (day)</th>\n",
       "      <th>Concrete compressive strength(MPa, megapascals)</th>\n",
       "    </tr>\n",
       "  </thead>\n",
       "  <tbody>\n",
       "    <tr>\n",
       "      <th>0</th>\n",
       "      <td>540.0</td>\n",
       "      <td>0.0</td>\n",
       "      <td>0.0</td>\n",
       "      <td>162.0</td>\n",
       "      <td>2.5</td>\n",
       "      <td>1040.0</td>\n",
       "      <td>676.0</td>\n",
       "      <td>28</td>\n",
       "      <td>79.99</td>\n",
       "    </tr>\n",
       "    <tr>\n",
       "      <th>1</th>\n",
       "      <td>540.0</td>\n",
       "      <td>0.0</td>\n",
       "      <td>0.0</td>\n",
       "      <td>162.0</td>\n",
       "      <td>2.5</td>\n",
       "      <td>1055.0</td>\n",
       "      <td>676.0</td>\n",
       "      <td>28</td>\n",
       "      <td>61.89</td>\n",
       "    </tr>\n",
       "    <tr>\n",
       "      <th>2</th>\n",
       "      <td>332.5</td>\n",
       "      <td>142.5</td>\n",
       "      <td>0.0</td>\n",
       "      <td>228.0</td>\n",
       "      <td>0.0</td>\n",
       "      <td>932.0</td>\n",
       "      <td>594.0</td>\n",
       "      <td>270</td>\n",
       "      <td>40.27</td>\n",
       "    </tr>\n",
       "    <tr>\n",
       "      <th>3</th>\n",
       "      <td>332.5</td>\n",
       "      <td>142.5</td>\n",
       "      <td>0.0</td>\n",
       "      <td>228.0</td>\n",
       "      <td>0.0</td>\n",
       "      <td>932.0</td>\n",
       "      <td>594.0</td>\n",
       "      <td>365</td>\n",
       "      <td>41.05</td>\n",
       "    </tr>\n",
       "    <tr>\n",
       "      <th>4</th>\n",
       "      <td>198.6</td>\n",
       "      <td>132.4</td>\n",
       "      <td>0.0</td>\n",
       "      <td>192.0</td>\n",
       "      <td>0.0</td>\n",
       "      <td>978.4</td>\n",
       "      <td>825.5</td>\n",
       "      <td>360</td>\n",
       "      <td>44.30</td>\n",
       "    </tr>\n",
       "  </tbody>\n",
       "</table>\n",
       "</div>"
      ],
      "text/plain": [
       "   Cement (component 1)(kg in a m^3 mixture)  \\\n",
       "0                                      540.0   \n",
       "1                                      540.0   \n",
       "2                                      332.5   \n",
       "3                                      332.5   \n",
       "4                                      198.6   \n",
       "\n",
       "   Blast Furnace Slag (component 2)(kg in a m^3 mixture)  \\\n",
       "0                                                0.0       \n",
       "1                                                0.0       \n",
       "2                                              142.5       \n",
       "3                                              142.5       \n",
       "4                                              132.4       \n",
       "\n",
       "   Fly Ash (component 3)(kg in a m^3 mixture)  \\\n",
       "0                                         0.0   \n",
       "1                                         0.0   \n",
       "2                                         0.0   \n",
       "3                                         0.0   \n",
       "4                                         0.0   \n",
       "\n",
       "   Water  (component 4)(kg in a m^3 mixture)  \\\n",
       "0                                      162.0   \n",
       "1                                      162.0   \n",
       "2                                      228.0   \n",
       "3                                      228.0   \n",
       "4                                      192.0   \n",
       "\n",
       "   Superplasticizer (component 5)(kg in a m^3 mixture)  \\\n",
       "0                                                2.5     \n",
       "1                                                2.5     \n",
       "2                                                0.0     \n",
       "3                                                0.0     \n",
       "4                                                0.0     \n",
       "\n",
       "   Coarse Aggregate  (component 6)(kg in a m^3 mixture)  \\\n",
       "0                                             1040.0      \n",
       "1                                             1055.0      \n",
       "2                                              932.0      \n",
       "3                                              932.0      \n",
       "4                                              978.4      \n",
       "\n",
       "   Fine Aggregate (component 7)(kg in a m^3 mixture)  Age (day)  \\\n",
       "0                                              676.0         28   \n",
       "1                                              676.0         28   \n",
       "2                                              594.0        270   \n",
       "3                                              594.0        365   \n",
       "4                                              825.5        360   \n",
       "\n",
       "   Concrete compressive strength(MPa, megapascals)   \n",
       "0                                             79.99  \n",
       "1                                             61.89  \n",
       "2                                             40.27  \n",
       "3                                             41.05  \n",
       "4                                             44.30  "
      ]
     },
     "execution_count": 3,
     "metadata": {},
     "output_type": "execute_result"
    }
   ],
   "source": [
    "data.head()"
   ]
  },
  {
   "cell_type": "code",
   "execution_count": 4,
   "metadata": {},
   "outputs": [],
   "source": [
    "data.columns= ['a','b','c','d','e','f','g','h','labels']"
   ]
  },
  {
   "cell_type": "code",
   "execution_count": 5,
   "metadata": {},
   "outputs": [
    {
     "data": {
      "text/plain": [
       "0"
      ]
     },
     "execution_count": 5,
     "metadata": {},
     "output_type": "execute_result"
    }
   ],
   "source": [
    "data.isnull().sum().sum() #checking missing values"
   ]
  },
  {
   "cell_type": "code",
   "execution_count": 6,
   "metadata": {},
   "outputs": [],
   "source": [
    "Tdata = data[:-206] # 80% training \n",
    "Vdata = data[824:] # 20% validation"
   ]
  },
  {
   "cell_type": "code",
   "execution_count": 7,
   "metadata": {},
   "outputs": [],
   "source": [
    "Vx = Vdata.iloc[:,:8].values\n",
    "Vy = Vdata.iloc[:,8].values\n",
    "#training data\n",
    "Tx = Tdata.iloc[:,:8].values\n",
    "Ty = Tdata.iloc[:,8].values"
   ]
  },
  {
   "cell_type": "code",
   "execution_count": 8,
   "metadata": {},
   "outputs": [],
   "source": [
    "X_train,X_test, y_train,y_test = train_test_split(Tx,Ty,test_size=0.375)"
   ]
  },
  {
   "cell_type": "code",
   "execution_count": 9,
   "metadata": {},
   "outputs": [],
   "source": [
    "model = tf.keras.Sequential([\n",
    "    tf.keras.layers.Dense(10,input_shape=(8,),activation = \"relu\"),\n",
    "    tf.keras.layers.Dense(8,activation = \"relu\"),\n",
    "    tf.keras.layers.Dense(6,activation = \"relu\"),\n",
    "    tf.keras.layers.Dense(1) \n",
    "])"
   ]
  },
  {
   "cell_type": "code",
   "execution_count": 10,
   "metadata": {},
   "outputs": [
    {
     "name": "stdout",
     "output_type": "stream",
     "text": [
      "Model: \"sequential\"\n",
      "_________________________________________________________________\n",
      "Layer (type)                 Output Shape              Param #   \n",
      "=================================================================\n",
      "dense (Dense)                (None, 10)                90        \n",
      "_________________________________________________________________\n",
      "dense_1 (Dense)              (None, 8)                 88        \n",
      "_________________________________________________________________\n",
      "dense_2 (Dense)              (None, 6)                 54        \n",
      "_________________________________________________________________\n",
      "dense_3 (Dense)              (None, 1)                 7         \n",
      "=================================================================\n",
      "Total params: 239\n",
      "Trainable params: 239\n",
      "Non-trainable params: 0\n",
      "_________________________________________________________________\n",
      "None\n"
     ]
    }
   ],
   "source": [
    "model.compile(optimizer = 'adam', loss = 'mean_squared_error', metrics = ['mae'])\n",
    "print(model.summary())"
   ]
  },
  {
   "cell_type": "code",
   "execution_count": 11,
   "metadata": {},
   "outputs": [
    {
     "name": "stdout",
     "output_type": "stream",
     "text": [
      "Train on 515 samples\n",
      "Epoch 1/100\n",
      "515/515 [==============================] - 1s 2ms/sample - loss: 423.5623 - mae: 15.7690\n",
      "Epoch 2/100\n",
      "515/515 [==============================] - 0s 85us/sample - loss: 289.9913 - mae: 13.4854\n",
      "Epoch 3/100\n",
      "515/515 [==============================] - 0s 85us/sample - loss: 279.1704 - mae: 13.8672\n",
      "Epoch 4/100\n",
      "515/515 [==============================] - 0s 83us/sample - loss: 266.7826 - mae: 13.0998\n",
      "Epoch 5/100\n",
      "515/515 [==============================] - 0s 85us/sample - loss: 257.2934 - mae: 13.0143\n",
      "Epoch 6/100\n",
      "515/515 [==============================] - 0s 82us/sample - loss: 254.6396 - mae: 12.8058\n",
      "Epoch 7/100\n",
      "515/515 [==============================] - 0s 85us/sample - loss: 254.9158 - mae: 13.2478\n",
      "Epoch 8/100\n",
      "515/515 [==============================] - 0s 85us/sample - loss: 244.6008 - mae: 12.7830\n",
      "Epoch 9/100\n",
      "515/515 [==============================] - 0s 85us/sample - loss: 241.7654 - mae: 12.7718\n",
      "Epoch 10/100\n",
      "515/515 [==============================] - 0s 85us/sample - loss: 238.0601 - mae: 12.5602\n",
      "Epoch 11/100\n",
      "515/515 [==============================] - 0s 70us/sample - loss: 234.4148 - mae: 12.5841\n",
      "Epoch 12/100\n",
      "515/515 [==============================] - 0s 85us/sample - loss: 230.0922 - mae: 12.3583\n",
      "Epoch 13/100\n",
      "515/515 [==============================] - 0s 85us/sample - loss: 227.8751 - mae: 12.4915\n",
      "Epoch 14/100\n",
      "515/515 [==============================] - 0s 85us/sample - loss: 222.6239 - mae: 12.1962\n",
      "Epoch 15/100\n",
      "515/515 [==============================] - 0s 78us/sample - loss: 221.7625 - mae: 12.1414\n",
      "Epoch 16/100\n",
      "515/515 [==============================] - 0s 80us/sample - loss: 215.9863 - mae: 11.9727\n",
      "Epoch 17/100\n",
      "515/515 [==============================] - 0s 93us/sample - loss: 216.9636 - mae: 12.2230\n",
      "Epoch 18/100\n",
      "515/515 [==============================] - 0s 85us/sample - loss: 208.7031 - mae: 11.7565\n",
      "Epoch 19/100\n",
      "515/515 [==============================] - 0s 70us/sample - loss: 203.3177 - mae: 11.6706\n",
      "Epoch 20/100\n",
      "515/515 [==============================] - 0s 87us/sample - loss: 201.1236 - mae: 11.7150\n",
      "Epoch 21/100\n",
      "515/515 [==============================] - 0s 101us/sample - loss: 197.2937 - mae: 11.6095\n",
      "Epoch 22/100\n",
      "515/515 [==============================] - 0s 70us/sample - loss: 191.5467 - mae: 11.2881\n",
      "Epoch 23/100\n",
      "515/515 [==============================] - 0s 78us/sample - loss: 186.7464 - mae: 11.1336\n",
      "Epoch 24/100\n",
      "515/515 [==============================] - 0s 78us/sample - loss: 182.7141 - mae: 10.9999\n",
      "Epoch 25/100\n",
      "515/515 [==============================] - 0s 78us/sample - loss: 179.0921 - mae: 10.9766\n",
      "Epoch 26/100\n",
      "515/515 [==============================] - 0s 70us/sample - loss: 176.2788 - mae: 10.9006\n",
      "Epoch 27/100\n",
      "515/515 [==============================] - 0s 78us/sample - loss: 173.7785 - mae: 10.5813\n",
      "Epoch 28/100\n",
      "515/515 [==============================] - 0s 78us/sample - loss: 169.6646 - mae: 10.5491\n",
      "Epoch 29/100\n",
      "515/515 [==============================] - 0s 78us/sample - loss: 162.6806 - mae: 10.3928\n",
      "Epoch 30/100\n",
      "515/515 [==============================] - 0s 78us/sample - loss: 161.3176 - mae: 10.2873\n",
      "Epoch 31/100\n",
      "515/515 [==============================] - 0s 78us/sample - loss: 154.6130 - mae: 10.0250\n",
      "Epoch 32/100\n",
      "515/515 [==============================] - 0s 70us/sample - loss: 151.3296 - mae: 10.0177\n",
      "Epoch 33/100\n",
      "515/515 [==============================] - 0s 78us/sample - loss: 147.2305 - mae: 9.8470\n",
      "Epoch 34/100\n",
      "515/515 [==============================] - 0s 78us/sample - loss: 144.9822 - mae: 9.5648\n",
      "Epoch 35/100\n",
      "515/515 [==============================] - 0s 85us/sample - loss: 140.2883 - mae: 9.5601\n",
      "Epoch 36/100\n",
      "515/515 [==============================] - 0s 78us/sample - loss: 137.7822 - mae: 9.4352\n",
      "Epoch 37/100\n",
      "515/515 [==============================] - 0s 85us/sample - loss: 133.0192 - mae: 9.2387\n",
      "Epoch 38/100\n",
      "515/515 [==============================] - 0s 85us/sample - loss: 127.5372 - mae: 9.0073\n",
      "Epoch 39/100\n",
      "515/515 [==============================] - 0s 93us/sample - loss: 125.3266 - mae: 8.8830\n",
      "Epoch 40/100\n",
      "515/515 [==============================] - 0s 93us/sample - loss: 122.7963 - mae: 8.7900\n",
      "Epoch 41/100\n",
      "515/515 [==============================] - 0s 78us/sample - loss: 118.8718 - mae: 8.6244\n",
      "Epoch 42/100\n",
      "515/515 [==============================] - 0s 85us/sample - loss: 118.3245 - mae: 8.6001\n",
      "Epoch 43/100\n",
      "515/515 [==============================] - 0s 85us/sample - loss: 115.2725 - mae: 8.4503\n",
      "Epoch 44/100\n",
      "515/515 [==============================] - 0s 85us/sample - loss: 111.9425 - mae: 8.2815\n",
      "Epoch 45/100\n",
      "515/515 [==============================] - 0s 85us/sample - loss: 110.3128 - mae: 8.2550\n",
      "Epoch 46/100\n",
      "515/515 [==============================] - 0s 78us/sample - loss: 107.1630 - mae: 8.1079\n",
      "Epoch 47/100\n",
      "515/515 [==============================] - 0s 78us/sample - loss: 105.5997 - mae: 8.0270\n",
      "Epoch 48/100\n",
      "515/515 [==============================] - 0s 93us/sample - loss: 106.1984 - mae: 8.0953\n",
      "Epoch 49/100\n",
      "515/515 [==============================] - 0s 78us/sample - loss: 102.2491 - mae: 7.9185\n",
      "Epoch 50/100\n",
      "515/515 [==============================] - 0s 93us/sample - loss: 100.6870 - mae: 7.8317\n",
      "Epoch 51/100\n",
      "515/515 [==============================] - 0s 93us/sample - loss: 98.7064 - mae: 7.7149\n",
      "Epoch 52/100\n",
      "515/515 [==============================] - 0s 78us/sample - loss: 99.1711 - mae: 7.7173\n",
      "Epoch 53/100\n",
      "515/515 [==============================] - 0s 93us/sample - loss: 96.6395 - mae: 7.6572\n",
      "Epoch 54/100\n",
      "515/515 [==============================] - 0s 93us/sample - loss: 98.4649 - mae: 7.6626\n",
      "Epoch 55/100\n",
      "515/515 [==============================] - 0s 78us/sample - loss: 95.4144 - mae: 7.5954\n",
      "Epoch 56/100\n",
      "515/515 [==============================] - 0s 93us/sample - loss: 94.4743 - mae: 7.5437\n",
      "Epoch 57/100\n",
      "515/515 [==============================] - 0s 70us/sample - loss: 93.5509 - mae: 7.5147\n",
      "Epoch 58/100\n",
      "515/515 [==============================] - 0s 78us/sample - loss: 92.5089 - mae: 7.4364\n",
      "Epoch 59/100\n",
      "515/515 [==============================] - 0s 86us/sample - loss: 92.1528 - mae: 7.4856\n",
      "Epoch 60/100\n",
      "515/515 [==============================] - 0s 78us/sample - loss: 90.1788 - mae: 7.3662\n",
      "Epoch 61/100\n",
      "515/515 [==============================] - 0s 85us/sample - loss: 91.3121 - mae: 7.4341\n",
      "Epoch 62/100\n",
      "515/515 [==============================] - 0s 85us/sample - loss: 94.6694 - mae: 7.5858\n",
      "Epoch 63/100\n",
      "515/515 [==============================] - 0s 85us/sample - loss: 91.9855 - mae: 7.3983\n",
      "Epoch 64/100\n",
      "515/515 [==============================] - 0s 85us/sample - loss: 88.2046 - mae: 7.2340\n",
      "Epoch 65/100\n",
      "515/515 [==============================] - 0s 78us/sample - loss: 89.8938 - mae: 7.3744\n",
      "Epoch 66/100\n",
      "515/515 [==============================] - 0s 93us/sample - loss: 87.4246 - mae: 7.2674\n",
      "Epoch 67/100\n",
      "515/515 [==============================] - 0s 85us/sample - loss: 87.1287 - mae: 7.2153\n",
      "Epoch 68/100\n",
      "515/515 [==============================] - 0s 78us/sample - loss: 85.6988 - mae: 7.2427\n",
      "Epoch 69/100\n",
      "515/515 [==============================] - 0s 85us/sample - loss: 84.7550 - mae: 7.1335\n",
      "Epoch 70/100\n",
      "515/515 [==============================] - 0s 85us/sample - loss: 83.8100 - mae: 7.0912\n",
      "Epoch 71/100\n",
      "515/515 [==============================] - 0s 85us/sample - loss: 83.3783 - mae: 7.0572\n",
      "Epoch 72/100\n",
      "515/515 [==============================] - 0s 93us/sample - loss: 84.6827 - mae: 7.1580\n",
      "Epoch 73/100\n",
      "515/515 [==============================] - 0s 85us/sample - loss: 82.9898 - mae: 7.0601\n",
      "Epoch 74/100\n",
      "515/515 [==============================] - 0s 85us/sample - loss: 82.5981 - mae: 7.0439\n",
      "Epoch 75/100\n",
      "515/515 [==============================] - 0s 85us/sample - loss: 84.0020 - mae: 7.1281\n",
      "Epoch 76/100\n",
      "515/515 [==============================] - 0s 93us/sample - loss: 83.5108 - mae: 7.1147\n",
      "Epoch 77/100\n",
      "515/515 [==============================] - 0s 85us/sample - loss: 80.9979 - mae: 6.9824\n",
      "Epoch 78/100\n",
      "515/515 [==============================] - 0s 78us/sample - loss: 81.1699 - mae: 6.9835\n",
      "Epoch 79/100\n",
      "515/515 [==============================] - 0s 85us/sample - loss: 79.7852 - mae: 6.9329\n",
      "Epoch 80/100\n",
      "515/515 [==============================] - 0s 93us/sample - loss: 79.5060 - mae: 6.8952\n",
      "Epoch 81/100\n"
     ]
    },
    {
     "name": "stdout",
     "output_type": "stream",
     "text": [
      "515/515 [==============================] - 0s 93us/sample - loss: 78.9800 - mae: 6.9180\n",
      "Epoch 82/100\n",
      "515/515 [==============================] - 0s 85us/sample - loss: 79.3543 - mae: 6.9131\n",
      "Epoch 83/100\n",
      "515/515 [==============================] - 0s 93us/sample - loss: 82.3344 - mae: 7.0586\n",
      "Epoch 84/100\n",
      "515/515 [==============================] - 0s 101us/sample - loss: 80.8600 - mae: 6.9594\n",
      "Epoch 85/100\n",
      "515/515 [==============================] - 0s 109us/sample - loss: 78.2837 - mae: 6.8652\n",
      "Epoch 86/100\n",
      "515/515 [==============================] - 0s 93us/sample - loss: 77.9118 - mae: 6.8762\n",
      "Epoch 87/100\n",
      "515/515 [==============================] - 0s 93us/sample - loss: 77.5037 - mae: 6.8002\n",
      "Epoch 88/100\n",
      "515/515 [==============================] - 0s 101us/sample - loss: 76.5373 - mae: 6.8171\n",
      "Epoch 89/100\n",
      "515/515 [==============================] - 0s 85us/sample - loss: 77.0586 - mae: 6.8438\n",
      "Epoch 90/100\n",
      "515/515 [==============================] - 0s 93us/sample - loss: 77.5407 - mae: 6.8767\n",
      "Epoch 91/100\n",
      "515/515 [==============================] - 0s 93us/sample - loss: 76.0175 - mae: 6.7563\n",
      "Epoch 92/100\n",
      "515/515 [==============================] - 0s 78us/sample - loss: 75.6295 - mae: 6.7698\n",
      "Epoch 93/100\n",
      "515/515 [==============================] - 0s 78us/sample - loss: 75.1218 - mae: 6.7582\n",
      "Epoch 94/100\n",
      "515/515 [==============================] - 0s 78us/sample - loss: 74.4598 - mae: 6.6868\n",
      "Epoch 95/100\n",
      "515/515 [==============================] - 0s 85us/sample - loss: 75.2355 - mae: 6.7814\n",
      "Epoch 96/100\n",
      "515/515 [==============================] - 0s 78us/sample - loss: 74.7443 - mae: 6.7265\n",
      "Epoch 97/100\n",
      "515/515 [==============================] - 0s 78us/sample - loss: 75.3541 - mae: 6.7832\n",
      "Epoch 98/100\n",
      "515/515 [==============================] - 0s 70us/sample - loss: 74.5956 - mae: 6.7772\n",
      "Epoch 99/100\n",
      "515/515 [==============================] - 0s 78us/sample - loss: 74.0759 - mae: 6.6994\n",
      "Epoch 100/100\n",
      "515/515 [==============================] - 0s 78us/sample - loss: 73.7956 - mae: 6.6913\n"
     ]
    },
    {
     "data": {
      "text/plain": [
       "<tensorflow.python.keras.callbacks.History at 0x205c4a0a9b0>"
      ]
     },
     "execution_count": 11,
     "metadata": {},
     "output_type": "execute_result"
    }
   ],
   "source": [
    "model.fit(X_train,y_train,epochs=100)"
   ]
  },
  {
   "cell_type": "code",
   "execution_count": 12,
   "metadata": {},
   "outputs": [
    {
     "name": "stdout",
     "output_type": "stream",
     "text": [
      "309/1 - 0s - loss: 94.5031 - mae: 7.6632\n"
     ]
    },
    {
     "data": {
      "text/plain": [
       "[98.7967195726907, 7.6632233]"
      ]
     },
     "execution_count": 12,
     "metadata": {},
     "output_type": "execute_result"
    }
   ],
   "source": [
    "model.evaluate(X_test,y_test,verbose=2) #test data"
   ]
  },
  {
   "cell_type": "code",
   "execution_count": 13,
   "metadata": {},
   "outputs": [
    {
     "name": "stdout",
     "output_type": "stream",
     "text": [
      "206/1 - 0s - loss: 69.3180 - mae: 7.8635\n"
     ]
    },
    {
     "data": {
      "text/plain": [
       "[90.51171023174398, 7.863507]"
      ]
     },
     "execution_count": 13,
     "metadata": {},
     "output_type": "execute_result"
    }
   ],
   "source": [
    "model.evaluate(Vx,Vy,verbose=2) #validation data"
   ]
  },
  {
   "cell_type": "code",
   "execution_count": null,
   "metadata": {},
   "outputs": [],
   "source": []
  },
  {
   "cell_type": "code",
   "execution_count": null,
   "metadata": {},
   "outputs": [],
   "source": []
  }
 ],
 "metadata": {
  "kernelspec": {
   "display_name": "Python 3",
   "language": "python",
   "name": "python3"
  },
  "language_info": {
   "codemirror_mode": {
    "name": "ipython",
    "version": 3
   },
   "file_extension": ".py",
   "mimetype": "text/x-python",
   "name": "python",
   "nbconvert_exporter": "python",
   "pygments_lexer": "ipython3",
   "version": "3.7.3"
  }
 },
 "nbformat": 4,
 "nbformat_minor": 2
}
