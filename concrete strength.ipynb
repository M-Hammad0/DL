{
 "cells": [
  {
   "cell_type": "code",
   "execution_count": 1,
   "metadata": {},
   "outputs": [],
   "source": [
    "import numpy as np\n",
    "import pandas as pd\n",
    "import tensorflow as tf \n",
    "from sklearn.preprocessing import LabelEncoder\n",
    "from sklearn.model_selection import train_test_split"
   ]
  },
  {
   "cell_type": "code",
   "execution_count": 2,
   "metadata": {},
   "outputs": [],
   "source": [
    "data = pd.read_csv(\"compresive_strength_concrete.csv\")"
   ]
  },
  {
   "cell_type": "code",
   "execution_count": 3,
   "metadata": {},
   "outputs": [
    {
     "data": {
      "text/html": [
       "<div>\n",
       "<style scoped>\n",
       "    .dataframe tbody tr th:only-of-type {\n",
       "        vertical-align: middle;\n",
       "    }\n",
       "\n",
       "    .dataframe tbody tr th {\n",
       "        vertical-align: top;\n",
       "    }\n",
       "\n",
       "    .dataframe thead th {\n",
       "        text-align: right;\n",
       "    }\n",
       "</style>\n",
       "<table border=\"1\" class=\"dataframe\">\n",
       "  <thead>\n",
       "    <tr style=\"text-align: right;\">\n",
       "      <th></th>\n",
       "      <th>Cement (component 1)(kg in a m^3 mixture)</th>\n",
       "      <th>Blast Furnace Slag (component 2)(kg in a m^3 mixture)</th>\n",
       "      <th>Fly Ash (component 3)(kg in a m^3 mixture)</th>\n",
       "      <th>Water  (component 4)(kg in a m^3 mixture)</th>\n",
       "      <th>Superplasticizer (component 5)(kg in a m^3 mixture)</th>\n",
       "      <th>Coarse Aggregate  (component 6)(kg in a m^3 mixture)</th>\n",
       "      <th>Fine Aggregate (component 7)(kg in a m^3 mixture)</th>\n",
       "      <th>Age (day)</th>\n",
       "      <th>Concrete compressive strength(MPa, megapascals)</th>\n",
       "    </tr>\n",
       "  </thead>\n",
       "  <tbody>\n",
       "    <tr>\n",
       "      <th>0</th>\n",
       "      <td>540.0</td>\n",
       "      <td>0.0</td>\n",
       "      <td>0.0</td>\n",
       "      <td>162.0</td>\n",
       "      <td>2.5</td>\n",
       "      <td>1040.0</td>\n",
       "      <td>676.0</td>\n",
       "      <td>28</td>\n",
       "      <td>79.99</td>\n",
       "    </tr>\n",
       "    <tr>\n",
       "      <th>1</th>\n",
       "      <td>540.0</td>\n",
       "      <td>0.0</td>\n",
       "      <td>0.0</td>\n",
       "      <td>162.0</td>\n",
       "      <td>2.5</td>\n",
       "      <td>1055.0</td>\n",
       "      <td>676.0</td>\n",
       "      <td>28</td>\n",
       "      <td>61.89</td>\n",
       "    </tr>\n",
       "    <tr>\n",
       "      <th>2</th>\n",
       "      <td>332.5</td>\n",
       "      <td>142.5</td>\n",
       "      <td>0.0</td>\n",
       "      <td>228.0</td>\n",
       "      <td>0.0</td>\n",
       "      <td>932.0</td>\n",
       "      <td>594.0</td>\n",
       "      <td>270</td>\n",
       "      <td>40.27</td>\n",
       "    </tr>\n",
       "    <tr>\n",
       "      <th>3</th>\n",
       "      <td>332.5</td>\n",
       "      <td>142.5</td>\n",
       "      <td>0.0</td>\n",
       "      <td>228.0</td>\n",
       "      <td>0.0</td>\n",
       "      <td>932.0</td>\n",
       "      <td>594.0</td>\n",
       "      <td>365</td>\n",
       "      <td>41.05</td>\n",
       "    </tr>\n",
       "    <tr>\n",
       "      <th>4</th>\n",
       "      <td>198.6</td>\n",
       "      <td>132.4</td>\n",
       "      <td>0.0</td>\n",
       "      <td>192.0</td>\n",
       "      <td>0.0</td>\n",
       "      <td>978.4</td>\n",
       "      <td>825.5</td>\n",
       "      <td>360</td>\n",
       "      <td>44.30</td>\n",
       "    </tr>\n",
       "  </tbody>\n",
       "</table>\n",
       "</div>"
      ],
      "text/plain": [
       "   Cement (component 1)(kg in a m^3 mixture)  \\\n",
       "0                                      540.0   \n",
       "1                                      540.0   \n",
       "2                                      332.5   \n",
       "3                                      332.5   \n",
       "4                                      198.6   \n",
       "\n",
       "   Blast Furnace Slag (component 2)(kg in a m^3 mixture)  \\\n",
       "0                                                0.0       \n",
       "1                                                0.0       \n",
       "2                                              142.5       \n",
       "3                                              142.5       \n",
       "4                                              132.4       \n",
       "\n",
       "   Fly Ash (component 3)(kg in a m^3 mixture)  \\\n",
       "0                                         0.0   \n",
       "1                                         0.0   \n",
       "2                                         0.0   \n",
       "3                                         0.0   \n",
       "4                                         0.0   \n",
       "\n",
       "   Water  (component 4)(kg in a m^3 mixture)  \\\n",
       "0                                      162.0   \n",
       "1                                      162.0   \n",
       "2                                      228.0   \n",
       "3                                      228.0   \n",
       "4                                      192.0   \n",
       "\n",
       "   Superplasticizer (component 5)(kg in a m^3 mixture)  \\\n",
       "0                                                2.5     \n",
       "1                                                2.5     \n",
       "2                                                0.0     \n",
       "3                                                0.0     \n",
       "4                                                0.0     \n",
       "\n",
       "   Coarse Aggregate  (component 6)(kg in a m^3 mixture)  \\\n",
       "0                                             1040.0      \n",
       "1                                             1055.0      \n",
       "2                                              932.0      \n",
       "3                                              932.0      \n",
       "4                                              978.4      \n",
       "\n",
       "   Fine Aggregate (component 7)(kg in a m^3 mixture)  Age (day)  \\\n",
       "0                                              676.0         28   \n",
       "1                                              676.0         28   \n",
       "2                                              594.0        270   \n",
       "3                                              594.0        365   \n",
       "4                                              825.5        360   \n",
       "\n",
       "   Concrete compressive strength(MPa, megapascals)   \n",
       "0                                             79.99  \n",
       "1                                             61.89  \n",
       "2                                             40.27  \n",
       "3                                             41.05  \n",
       "4                                             44.30  "
      ]
     },
     "execution_count": 3,
     "metadata": {},
     "output_type": "execute_result"
    }
   ],
   "source": [
    "data.head()"
   ]
  },
  {
   "cell_type": "code",
   "execution_count": 4,
   "metadata": {},
   "outputs": [],
   "source": [
    "data.columns= ['a','b','c','d','e','f','g','h','labels']"
   ]
  },
  {
   "cell_type": "code",
   "execution_count": 77,
   "metadata": {},
   "outputs": [],
   "source": [
    "corr=data.groupby('labels').mean()"
   ]
  },
  {
   "cell_type": "code",
   "execution_count": 78,
   "metadata": {},
   "outputs": [
    {
     "data": {
      "text/html": [
       "<div>\n",
       "<style scoped>\n",
       "    .dataframe tbody tr th:only-of-type {\n",
       "        vertical-align: middle;\n",
       "    }\n",
       "\n",
       "    .dataframe tbody tr th {\n",
       "        vertical-align: top;\n",
       "    }\n",
       "\n",
       "    .dataframe thead th {\n",
       "        text-align: right;\n",
       "    }\n",
       "</style>\n",
       "<table border=\"1\" class=\"dataframe\">\n",
       "  <thead>\n",
       "    <tr style=\"text-align: right;\">\n",
       "      <th></th>\n",
       "      <th>a</th>\n",
       "      <th>b</th>\n",
       "      <th>c</th>\n",
       "      <th>d</th>\n",
       "      <th>e</th>\n",
       "      <th>f</th>\n",
       "      <th>g</th>\n",
       "      <th>h</th>\n",
       "    </tr>\n",
       "  </thead>\n",
       "  <tbody>\n",
       "    <tr>\n",
       "      <th>a</th>\n",
       "      <td>1.000000</td>\n",
       "      <td>-0.299201</td>\n",
       "      <td>-0.372612</td>\n",
       "      <td>-0.087809</td>\n",
       "      <td>0.124345</td>\n",
       "      <td>-0.110388</td>\n",
       "      <td>-0.244223</td>\n",
       "      <td>0.088815</td>\n",
       "    </tr>\n",
       "    <tr>\n",
       "      <th>b</th>\n",
       "      <td>-0.299201</td>\n",
       "      <td>1.000000</td>\n",
       "      <td>-0.321802</td>\n",
       "      <td>0.154319</td>\n",
       "      <td>-0.004321</td>\n",
       "      <td>-0.283669</td>\n",
       "      <td>-0.293529</td>\n",
       "      <td>-0.043304</td>\n",
       "    </tr>\n",
       "    <tr>\n",
       "      <th>c</th>\n",
       "      <td>-0.372612</td>\n",
       "      <td>-0.321802</td>\n",
       "      <td>1.000000</td>\n",
       "      <td>-0.308995</td>\n",
       "      <td>0.390736</td>\n",
       "      <td>0.010790</td>\n",
       "      <td>0.098679</td>\n",
       "      <td>-0.137399</td>\n",
       "    </tr>\n",
       "    <tr>\n",
       "      <th>d</th>\n",
       "      <td>-0.087809</td>\n",
       "      <td>0.154319</td>\n",
       "      <td>-0.308995</td>\n",
       "      <td>1.000000</td>\n",
       "      <td>-0.673208</td>\n",
       "      <td>-0.186639</td>\n",
       "      <td>-0.441067</td>\n",
       "      <td>0.261287</td>\n",
       "    </tr>\n",
       "    <tr>\n",
       "      <th>e</th>\n",
       "      <td>0.124345</td>\n",
       "      <td>-0.004321</td>\n",
       "      <td>0.390736</td>\n",
       "      <td>-0.673208</td>\n",
       "      <td>1.000000</td>\n",
       "      <td>-0.241187</td>\n",
       "      <td>0.221732</td>\n",
       "      <td>-0.159483</td>\n",
       "    </tr>\n",
       "    <tr>\n",
       "      <th>f</th>\n",
       "      <td>-0.110388</td>\n",
       "      <td>-0.283669</td>\n",
       "      <td>0.010790</td>\n",
       "      <td>-0.186639</td>\n",
       "      <td>-0.241187</td>\n",
       "      <td>1.000000</td>\n",
       "      <td>-0.176815</td>\n",
       "      <td>-0.019069</td>\n",
       "    </tr>\n",
       "    <tr>\n",
       "      <th>g</th>\n",
       "      <td>-0.244223</td>\n",
       "      <td>-0.293529</td>\n",
       "      <td>0.098679</td>\n",
       "      <td>-0.441067</td>\n",
       "      <td>0.221732</td>\n",
       "      <td>-0.176815</td>\n",
       "      <td>1.000000</td>\n",
       "      <td>-0.162198</td>\n",
       "    </tr>\n",
       "    <tr>\n",
       "      <th>h</th>\n",
       "      <td>0.088815</td>\n",
       "      <td>-0.043304</td>\n",
       "      <td>-0.137399</td>\n",
       "      <td>0.261287</td>\n",
       "      <td>-0.159483</td>\n",
       "      <td>-0.019069</td>\n",
       "      <td>-0.162198</td>\n",
       "      <td>1.000000</td>\n",
       "    </tr>\n",
       "  </tbody>\n",
       "</table>\n",
       "</div>"
      ],
      "text/plain": [
       "          a         b         c         d         e         f         g  \\\n",
       "a  1.000000 -0.299201 -0.372612 -0.087809  0.124345 -0.110388 -0.244223   \n",
       "b -0.299201  1.000000 -0.321802  0.154319 -0.004321 -0.283669 -0.293529   \n",
       "c -0.372612 -0.321802  1.000000 -0.308995  0.390736  0.010790  0.098679   \n",
       "d -0.087809  0.154319 -0.308995  1.000000 -0.673208 -0.186639 -0.441067   \n",
       "e  0.124345 -0.004321  0.390736 -0.673208  1.000000 -0.241187  0.221732   \n",
       "f -0.110388 -0.283669  0.010790 -0.186639 -0.241187  1.000000 -0.176815   \n",
       "g -0.244223 -0.293529  0.098679 -0.441067  0.221732 -0.176815  1.000000   \n",
       "h  0.088815 -0.043304 -0.137399  0.261287 -0.159483 -0.019069 -0.162198   \n",
       "\n",
       "          h  \n",
       "a  0.088815  \n",
       "b -0.043304  \n",
       "c -0.137399  \n",
       "d  0.261287  \n",
       "e -0.159483  \n",
       "f -0.019069  \n",
       "g -0.162198  \n",
       "h  1.000000  "
      ]
     },
     "execution_count": 78,
     "metadata": {},
     "output_type": "execute_result"
    }
   ],
   "source": [
    "corr.corr()"
   ]
  },
  {
   "cell_type": "code",
   "execution_count": 5,
   "metadata": {},
   "outputs": [
    {
     "data": {
      "text/plain": [
       "0"
      ]
     },
     "execution_count": 5,
     "metadata": {},
     "output_type": "execute_result"
    }
   ],
   "source": [
    "data.isnull().sum().sum() #checking missing values"
   ]
  },
  {
   "cell_type": "code",
   "execution_count": 8,
   "metadata": {},
   "outputs": [
    {
     "data": {
      "text/html": [
       "<div>\n",
       "<style scoped>\n",
       "    .dataframe tbody tr th:only-of-type {\n",
       "        vertical-align: middle;\n",
       "    }\n",
       "\n",
       "    .dataframe tbody tr th {\n",
       "        vertical-align: top;\n",
       "    }\n",
       "\n",
       "    .dataframe thead th {\n",
       "        text-align: right;\n",
       "    }\n",
       "</style>\n",
       "<table border=\"1\" class=\"dataframe\">\n",
       "  <thead>\n",
       "    <tr style=\"text-align: right;\">\n",
       "      <th></th>\n",
       "      <th>a</th>\n",
       "      <th>b</th>\n",
       "      <th>c</th>\n",
       "      <th>d</th>\n",
       "      <th>e</th>\n",
       "      <th>f</th>\n",
       "      <th>g</th>\n",
       "      <th>h</th>\n",
       "      <th>labels</th>\n",
       "    </tr>\n",
       "  </thead>\n",
       "  <tbody>\n",
       "    <tr>\n",
       "      <th>0</th>\n",
       "      <td>540.0</td>\n",
       "      <td>0.0</td>\n",
       "      <td>0.0</td>\n",
       "      <td>162.0</td>\n",
       "      <td>2.5</td>\n",
       "      <td>1040.0</td>\n",
       "      <td>676.0</td>\n",
       "      <td>28</td>\n",
       "      <td>79.99</td>\n",
       "    </tr>\n",
       "    <tr>\n",
       "      <th>1</th>\n",
       "      <td>540.0</td>\n",
       "      <td>0.0</td>\n",
       "      <td>0.0</td>\n",
       "      <td>162.0</td>\n",
       "      <td>2.5</td>\n",
       "      <td>1055.0</td>\n",
       "      <td>676.0</td>\n",
       "      <td>28</td>\n",
       "      <td>61.89</td>\n",
       "    </tr>\n",
       "    <tr>\n",
       "      <th>2</th>\n",
       "      <td>332.5</td>\n",
       "      <td>142.5</td>\n",
       "      <td>0.0</td>\n",
       "      <td>228.0</td>\n",
       "      <td>0.0</td>\n",
       "      <td>932.0</td>\n",
       "      <td>594.0</td>\n",
       "      <td>270</td>\n",
       "      <td>40.27</td>\n",
       "    </tr>\n",
       "    <tr>\n",
       "      <th>3</th>\n",
       "      <td>332.5</td>\n",
       "      <td>142.5</td>\n",
       "      <td>0.0</td>\n",
       "      <td>228.0</td>\n",
       "      <td>0.0</td>\n",
       "      <td>932.0</td>\n",
       "      <td>594.0</td>\n",
       "      <td>365</td>\n",
       "      <td>41.05</td>\n",
       "    </tr>\n",
       "    <tr>\n",
       "      <th>4</th>\n",
       "      <td>198.6</td>\n",
       "      <td>132.4</td>\n",
       "      <td>0.0</td>\n",
       "      <td>192.0</td>\n",
       "      <td>0.0</td>\n",
       "      <td>978.4</td>\n",
       "      <td>825.5</td>\n",
       "      <td>360</td>\n",
       "      <td>44.30</td>\n",
       "    </tr>\n",
       "  </tbody>\n",
       "</table>\n",
       "</div>"
      ],
      "text/plain": [
       "       a      b    c      d    e       f      g    h  labels\n",
       "0  540.0    0.0  0.0  162.0  2.5  1040.0  676.0   28   79.99\n",
       "1  540.0    0.0  0.0  162.0  2.5  1055.0  676.0   28   61.89\n",
       "2  332.5  142.5  0.0  228.0  0.0   932.0  594.0  270   40.27\n",
       "3  332.5  142.5  0.0  228.0  0.0   932.0  594.0  365   41.05\n",
       "4  198.6  132.4  0.0  192.0  0.0   978.4  825.5  360   44.30"
      ]
     },
     "execution_count": 8,
     "metadata": {},
     "output_type": "execute_result"
    }
   ],
   "source": [
    "data.head()"
   ]
  },
  {
   "cell_type": "code",
   "execution_count": 9,
   "metadata": {},
   "outputs": [],
   "source": [
    "X = data.drop('labels',axis=1).values"
   ]
  },
  {
   "cell_type": "code",
   "execution_count": 11,
   "metadata": {},
   "outputs": [],
   "source": [
    "y = data['labels'].values"
   ]
  },
  {
   "cell_type": "code",
   "execution_count": 12,
   "metadata": {},
   "outputs": [],
   "source": [
    "from sklearn.model_selection import train_test_split"
   ]
  },
  {
   "cell_type": "code",
   "execution_count": 13,
   "metadata": {},
   "outputs": [],
   "source": [
    " X_train, X_test, y_train, y_test = train_test_split(X, y, test_size=0.3)"
   ]
  },
  {
   "cell_type": "code",
   "execution_count": 28,
   "metadata": {},
   "outputs": [],
   "source": [
    "model = tf.keras.Sequential([\n",
    "    tf.keras.layers.Dense(10,input_shape=(8,),activation = \"relu\"),\n",
    "    tf.keras.layers.Dense(8,activation = \"relu\"),\n",
    "    tf.keras.layers.Dense(6,activation = \"relu\"),\n",
    "    tf.keras.layers.Dense(1) \n",
    "])\n",
    "model.compile(optimizer = 'adam', loss = 'mean_squared_error', metrics = ['mae'])"
   ]
  },
  {
   "cell_type": "code",
   "execution_count": 35,
   "metadata": {},
   "outputs": [],
   "source": [
    "from tensorflow.keras.callbacks import EarlyStopping"
   ]
  },
  {
   "cell_type": "code",
   "execution_count": 36,
   "metadata": {},
   "outputs": [],
   "source": [
    "early_stop = EarlyStopping(monitor='val_loss',mode='min',verbose=1,patience=5)"
   ]
  },
  {
   "cell_type": "code",
   "execution_count": 37,
   "metadata": {},
   "outputs": [
    {
     "name": "stdout",
     "output_type": "stream",
     "text": [
      "Train on 721 samples, validate on 309 samples\n",
      "Epoch 1/300\n",
      "721/721 [==============================] - 0s 117us/sample - loss: 86.0299 - mae: 7.2595 - val_loss: 84.5464 - val_mae: 6.9405\n",
      "Epoch 2/300\n",
      "721/721 [==============================] - 0s 110us/sample - loss: 83.4204 - mae: 7.1129 - val_loss: 83.1149 - val_mae: 6.8873\n",
      "Epoch 3/300\n",
      "721/721 [==============================] - 0s 105us/sample - loss: 82.7636 - mae: 7.1115 - val_loss: 82.1820 - val_mae: 6.8226\n",
      "Epoch 4/300\n",
      "721/721 [==============================] - 0s 105us/sample - loss: 80.4357 - mae: 6.9676 - val_loss: 84.9010 - val_mae: 6.9683\n",
      "Epoch 5/300\n",
      "721/721 [==============================] - 0s 105us/sample - loss: 81.8083 - mae: 7.0621 - val_loss: 81.8256 - val_mae: 6.8159\n",
      "Epoch 6/300\n",
      "721/721 [==============================] - 0s 122us/sample - loss: 80.0041 - mae: 6.9043 - val_loss: 82.0997 - val_mae: 6.8346\n",
      "Epoch 7/300\n",
      "721/721 [==============================] - 0s 105us/sample - loss: 81.1311 - mae: 6.9900 - val_loss: 89.0237 - val_mae: 7.2084\n",
      "Epoch 8/300\n",
      "721/721 [==============================] - 0s 105us/sample - loss: 83.0070 - mae: 7.0928 - val_loss: 82.0039 - val_mae: 6.8485\n",
      "Epoch 9/300\n",
      "721/721 [==============================] - 0s 106us/sample - loss: 81.8428 - mae: 7.0370 - val_loss: 84.6632 - val_mae: 6.9539\n",
      "Epoch 10/300\n",
      "721/721 [==============================] - 0s 127us/sample - loss: 80.8594 - mae: 7.0103 - val_loss: 82.5712 - val_mae: 6.8443\n",
      "Epoch 00010: early stopping\n"
     ]
    },
    {
     "data": {
      "text/plain": [
       "<tensorflow.python.keras.callbacks.History at 0x1b910381a20>"
      ]
     },
     "execution_count": 37,
     "metadata": {},
     "output_type": "execute_result"
    }
   ],
   "source": [
    "model.fit(X_train,y_train,epochs=300,validation_data=(X_test,y_test),callbacks=[early_stop])"
   ]
  },
  {
   "cell_type": "code",
   "execution_count": 38,
   "metadata": {},
   "outputs": [
    {
     "data": {
      "text/html": [
       "<div>\n",
       "<style scoped>\n",
       "    .dataframe tbody tr th:only-of-type {\n",
       "        vertical-align: middle;\n",
       "    }\n",
       "\n",
       "    .dataframe tbody tr th {\n",
       "        vertical-align: top;\n",
       "    }\n",
       "\n",
       "    .dataframe thead th {\n",
       "        text-align: right;\n",
       "    }\n",
       "</style>\n",
       "<table border=\"1\" class=\"dataframe\">\n",
       "  <thead>\n",
       "    <tr style=\"text-align: right;\">\n",
       "      <th></th>\n",
       "      <th>loss</th>\n",
       "      <th>mae</th>\n",
       "      <th>val_loss</th>\n",
       "      <th>val_mae</th>\n",
       "    </tr>\n",
       "  </thead>\n",
       "  <tbody>\n",
       "    <tr>\n",
       "      <th>0</th>\n",
       "      <td>86.029923</td>\n",
       "      <td>7.259475</td>\n",
       "      <td>84.546360</td>\n",
       "      <td>6.940464</td>\n",
       "    </tr>\n",
       "    <tr>\n",
       "      <th>1</th>\n",
       "      <td>83.420397</td>\n",
       "      <td>7.112913</td>\n",
       "      <td>83.114882</td>\n",
       "      <td>6.887273</td>\n",
       "    </tr>\n",
       "    <tr>\n",
       "      <th>2</th>\n",
       "      <td>82.763595</td>\n",
       "      <td>7.111490</td>\n",
       "      <td>82.182039</td>\n",
       "      <td>6.822576</td>\n",
       "    </tr>\n",
       "    <tr>\n",
       "      <th>3</th>\n",
       "      <td>80.435710</td>\n",
       "      <td>6.967637</td>\n",
       "      <td>84.900958</td>\n",
       "      <td>6.968263</td>\n",
       "    </tr>\n",
       "    <tr>\n",
       "      <th>4</th>\n",
       "      <td>81.808288</td>\n",
       "      <td>7.062056</td>\n",
       "      <td>81.825633</td>\n",
       "      <td>6.815889</td>\n",
       "    </tr>\n",
       "    <tr>\n",
       "      <th>5</th>\n",
       "      <td>80.004117</td>\n",
       "      <td>6.904265</td>\n",
       "      <td>82.099666</td>\n",
       "      <td>6.834626</td>\n",
       "    </tr>\n",
       "    <tr>\n",
       "      <th>6</th>\n",
       "      <td>81.131059</td>\n",
       "      <td>6.989986</td>\n",
       "      <td>89.023670</td>\n",
       "      <td>7.208377</td>\n",
       "    </tr>\n",
       "    <tr>\n",
       "      <th>7</th>\n",
       "      <td>83.007000</td>\n",
       "      <td>7.092752</td>\n",
       "      <td>82.003941</td>\n",
       "      <td>6.848491</td>\n",
       "    </tr>\n",
       "    <tr>\n",
       "      <th>8</th>\n",
       "      <td>81.842762</td>\n",
       "      <td>7.036979</td>\n",
       "      <td>84.663183</td>\n",
       "      <td>6.953944</td>\n",
       "    </tr>\n",
       "    <tr>\n",
       "      <th>9</th>\n",
       "      <td>80.859392</td>\n",
       "      <td>7.010335</td>\n",
       "      <td>82.571163</td>\n",
       "      <td>6.844322</td>\n",
       "    </tr>\n",
       "  </tbody>\n",
       "</table>\n",
       "</div>"
      ],
      "text/plain": [
       "        loss       mae   val_loss   val_mae\n",
       "0  86.029923  7.259475  84.546360  6.940464\n",
       "1  83.420397  7.112913  83.114882  6.887273\n",
       "2  82.763595  7.111490  82.182039  6.822576\n",
       "3  80.435710  6.967637  84.900958  6.968263\n",
       "4  81.808288  7.062056  81.825633  6.815889\n",
       "5  80.004117  6.904265  82.099666  6.834626\n",
       "6  81.131059  6.989986  89.023670  7.208377\n",
       "7  83.007000  7.092752  82.003941  6.848491\n",
       "8  81.842762  7.036979  84.663183  6.953944\n",
       "9  80.859392  7.010335  82.571163  6.844322"
      ]
     },
     "execution_count": 38,
     "metadata": {},
     "output_type": "execute_result"
    }
   ],
   "source": [
    "losses = pd.DataFrame(model.history.history)\n",
    "losses"
   ]
  },
  {
   "cell_type": "code",
   "execution_count": 39,
   "metadata": {},
   "outputs": [],
   "source": [
    "import matplotlib.pyplot as plt \n",
    "import seaborn as sns \n",
    "%matplotlib inline"
   ]
  },
  {
   "cell_type": "code",
   "execution_count": 40,
   "metadata": {},
   "outputs": [
    {
     "data": {
      "text/plain": [
       "<matplotlib.axes._subplots.AxesSubplot at 0x1b9103b75f8>"
      ]
     },
     "execution_count": 40,
     "metadata": {},
     "output_type": "execute_result"
    },
    {
     "data": {
      "image/png": "[encoded data removed]",
      "text/plain": [
       "<Figure size 432x288 with 1 Axes>"
      ]
     },
     "metadata": {
      "needs_background": "light"
     },
     "output_type": "display_data"
    }
   ],
   "source": [
    "losses[['loss','val_loss']].plot()"
   ]
  },
  {
   "cell_type": "code",
   "execution_count": 66,
   "metadata": {},
   "outputs": [],
   "source": [
    "pred = model.predict(X_test)"
   ]
  },
  {
   "cell_type": "code",
   "execution_count": 65,
   "metadata": {},
   "outputs": [],
   "source": [
    "from sklearn import metrics"
   ]
  },
  {
   "cell_type": "code",
   "execution_count": 75,
   "metadata": {},
   "outputs": [
    {
     "name": "stdout",
     "output_type": "stream",
     "text": [
      "MAE: 6.844321913487702\n",
      "MSE: 82.57115985150685\n",
      "RMSE: 9.086867438865104\n"
     ]
    }
   ],
   "source": [
    "print('MAE:',metrics.mean_absolute_error(y_test,pred))\n",
    "print('MSE:',metrics.mean_squared_error(y_test,pred))\n",
    "print('RMSE:',np.sqrt(metrics.mean_squared_error(y_test, pred)))"
   ]
  }
 ],
 "metadata": {
  "kernelspec": {
   "display_name": "Python 3",
   "language": "python",
   "name": "python3"
  },
  "language_info": {
   "codemirror_mode": {
    "name": "ipython",
    "version": 3
   },
   "file_extension": ".py",
   "mimetype": "text/x-python",
   "name": "python",
   "nbconvert_exporter": "python",
   "pygments_lexer": "ipython3",
   "version": "3.7.3"
  }
 },
 "nbformat": 4,
 "nbformat_minor": 2
}
